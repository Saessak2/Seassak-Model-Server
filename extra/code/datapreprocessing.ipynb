{
 "cells": [
  {
   "cell_type": "code",
   "execution_count": 1,
   "metadata": {},
   "outputs": [],
   "source": [
    "import pandas as pd\n",
    "from datahandler import FileHandler, Preprocessor"
   ]
  },
  {
   "cell_type": "markdown",
   "metadata": {},
   "source": [
    "## 개체명 인식 모델 학습용 데이터 생성 및 가공"
   ]
  },
  {
   "cell_type": "code",
   "execution_count": 3,
   "metadata": {},
   "outputs": [
    {
     "name": "stdout",
     "output_type": "stream",
     "text": [
      "데이터 개수 : 16680\n",
      "<class 'list'>\n",
      "저희집 여인초는 키가 왜 안 자랄까요,,. 안녕하세요! 지난 여름부터 키우기 시작한 여인초가 있는데요, 얘가 위로 자라진 않고 계속해서 새로운 잎들만 나오네요ㅠㅠ 이파리들도 계속해서 축축 처지는 것 같습니다...  1. 여인초마다 자라는 높이가 정해져 있는 건가요? 위로 성장을 안 해요 2. 이파리가 왤케 처질까요ㅠ 조언 부탁드립니다!! 좋은 하루 되세요!. 아무 이상 없이 정상적으로 자라고 있습니다. 자라는 높이가 정해져 있지는 않습니다.  이파리가 쳐지는 것 아닙니다. 너무너무 멋지게 잘 자라고 있습니다.. 잘 키우셨네요. 오래된 잎들을 보면 말려 있는 것이 평소 수분이 약간 부족하였을 것으로 보입니다. 화분에 물이 흡수되는 원리와 기본적인 실내식물 관리요령에 대한 제 블로그의 자료를 첨부합니다. 화분관리에 참고해서 건강하게 키우시기 바랍니다..\n"
     ]
    }
   ],
   "source": [
    "docs = FileHandler.load_file('/Users/eunbin/Desktop/Projects/saessack-server/extra/data/kinnaver/dataset.txt')\n",
    "print(type(docs))\n",
    "print(docs[1])"
   ]
  },
  {
   "cell_type": "code",
   "execution_count": 4,
   "metadata": {},
   "outputs": [],
   "source": [
    "tag_path = '/Users/eunbin/Desktop/Projects/saessack-server/extra/data/tag/'\n",
    "\n",
    "plant_csv = pd.read_csv(tag_path+'PLANT.csv', encoding='utf-8')\n",
    "category_csv = pd.read_csv(tag_path+'CATEGORY.csv', encoding='utf-8')\n",
    "disease_csv = pd.read_csv(tag_path+'DISEASE.csv', encoding='utf-8')\n",
    "bug_csv = pd.read_csv(tag_path+'BUG.csv', encoding='utf-8')\n",
    "\n",
    "def get_tags(csvfile, tag_type):\n",
    "    tags = list(csvfile[tag_type])\n",
    "    tags.sort(key=len)\n",
    "    result = []\n",
    "    for tag in tags:\n",
    "        if tag not in result:\n",
    "            result.append(tag)\n",
    "    print(len(result))\n",
    "\n",
    "    return result\n"
   ]
  },
  {
   "cell_type": "code",
   "execution_count": 5,
   "metadata": {},
   "outputs": [
    {
     "name": "stdout",
     "output_type": "stream",
     "text": [
      "1813\n",
      "16\n",
      "15\n",
      "27\n"
     ]
    }
   ],
   "source": [
    "plants = get_tags(plant_csv, 'PLT')\n",
    "categories = get_tags(category_csv, 'CTG')\n",
    "diseases = get_tags(disease_csv, 'DIS')\n",
    "bugs = get_tags(bug_csv, 'BUG')\n",
    "tags = {\n",
    "    'PLT': plants,\n",
    "    'CTG': categories,\n",
    "    'DIS': diseases,\n",
    "    'BUG': bugs\n",
    "}"
   ]
  },
  {
   "cell_type": "markdown",
   "metadata": {},
   "source": [
    "### 전처리"
   ]
  },
  {
   "cell_type": "code",
   "execution_count": 6,
   "metadata": {},
   "outputs": [],
   "source": [
    "# 불용어제거\n",
    "docs = Preprocessor.remove_stopword(docs)"
   ]
  },
  {
   "cell_type": "markdown",
   "metadata": {},
   "source": [
    "### BIO Tagging\n",
    "[데이터 형식]\n",
    "<br> 여인초 왜 안자라.\n",
    "<br> sentences = [['여','인','초','왜','안','자','라','.']]\n",
    "<br>ner_tags = [['B-PLT','I-PLT','I-PLT','O','O','O','O','O']]"
   ]
  },
  {
   "cell_type": "markdown",
   "metadata": {},
   "source": []
  },
  {
   "cell_type": "code",
   "execution_count": 36,
   "metadata": {},
   "outputs": [],
   "source": [
    "import re\n",
    "\n",
    "result = []\n",
    "B = '-B'\n",
    "I = '-I'\n",
    "id = -1\n",
    "\n",
    "for doc in docs:\n",
    "    id += 1\n",
    "    doc = doc.replace(' ', '')\n",
    "    # 음절 배열\n",
    "    sentences_x = []\n",
    "    for syllable in doc: #syllable은 음절\n",
    "        sentences_x.append(syllable) \n",
    "\n",
    "    # tag 배열\n",
    "    ner_tags_x = []\n",
    "    for x in range(len(doc)):\n",
    "        ner_tags_x.append('O')\n",
    "\n",
    "    # matching_tag = {\n",
    "    #     'BUG' : [],\n",
    "    #     'DIS' : [],\n",
    "    #     'CTG' : [],\n",
    "    #     'PLT' : [] \n",
    "    # }\n",
    "    \n",
    "    for tag_type in ['BUG', 'DIS', 'PLT', 'CTG']:\n",
    "        for tag in tags[tag_type]:\n",
    "            for match in re.finditer(tag, doc):\n",
    "                # matching_tag[tag_type].append(tag) ### 매칭된 태그 이름 \n",
    "                st = match.start()\n",
    "                end = match.end()\n",
    "                ner_tags_x[st] = tag_type+B\n",
    "                if end-st != 0:\n",
    "                    for i in range(st+1, end):\n",
    "                        ner_tags_x[i] = tag_type+I\n",
    "\n",
    "    # for match in re.finditer('\\.', doc):\n",
    "    #     st = match.start()\n",
    "    #     ner_tags_x[st] = '[DOT]'\n",
    "\n",
    "    dic = {\n",
    "        'sentence' : ' '.join(sentences_x),\n",
    "        'tagging' : ' '.join(ner_tags_x)\n",
    "        # 'PLT' : list(set(matching_tag['PLT'])),\n",
    "        # 'CTG' : list(set(matching_tag['CTG'])),\n",
    "        # 'BUG' : list(set(matching_tag['BUG'])),\n",
    "        # 'DIS' : list(set(matching_tag['DIS']))\n",
    "        }\n",
    "    result.append(dic)"
   ]
  },
  {
   "cell_type": "code",
   "execution_count": 38,
   "metadata": {},
   "outputs": [
    {
     "data": {
      "text/html": [
       "<div>\n",
       "<style scoped>\n",
       "    .dataframe tbody tr th:only-of-type {\n",
       "        vertical-align: middle;\n",
       "    }\n",
       "\n",
       "    .dataframe tbody tr th {\n",
       "        vertical-align: top;\n",
       "    }\n",
       "\n",
       "    .dataframe thead th {\n",
       "        text-align: right;\n",
       "    }\n",
       "</style>\n",
       "<table border=\"1\" class=\"dataframe\">\n",
       "  <thead>\n",
       "    <tr style=\"text-align: right;\">\n",
       "      <th></th>\n",
       "      <th>sentence</th>\n",
       "      <th>tagging</th>\n",
       "    </tr>\n",
       "  </thead>\n",
       "  <tbody>\n",
       "    <tr>\n",
       "      <th>0</th>\n",
       "      <td>파 테 크 하 고 있 는 데 물 주 기 어 떻 게 하 나 요 . 대 파 를 심 었 ...</td>\n",
       "      <td>O O O O O O O O CTG-B CTG-I CTG-I O O O O O O ...</td>\n",
       "    </tr>\n",
       "    <tr>\n",
       "      <th>1</th>\n",
       "      <td>벤 자 민 가 지 치 기 . 벤 자 민 이 한 쪽 으 로 만 자 라 고 있 어 요 ...</td>\n",
       "      <td>O O O CTG-B CTG-I CTG-I CTG-I O O O O O O O O ...</td>\n",
       "    </tr>\n",
       "    <tr>\n",
       "      <th>2</th>\n",
       "      <td>먼 버 섯 이 에 요 . 먹 어 도 되 남 . 드 시 면 안 돼 죵 습 하 고 통 ...</td>\n",
       "      <td>O PLT-B PLT-I O O O O O O O O O O O O O O O O ...</td>\n",
       "    </tr>\n",
       "    <tr>\n",
       "      <th>3</th>\n",
       "      <td>다 육 이 질 문 이 다 육 이 이 름 이 랑 관 리 법 소 생 법 알 려 주 세 ...</td>\n",
       "      <td>PLT-B PLT-I O O O O PLT-B PLT-I O CTG-B CTG-I ...</td>\n",
       "    </tr>\n",
       "    <tr>\n",
       "      <th>4</th>\n",
       "      <td>선 인 장 도 와 주 세 요 . 최 근 에 물 을 2 주 간 격 으 로 줬 더 니 ...</td>\n",
       "      <td>PLT-B PLT-I PLT-I O O O O O O O O O O O O O O ...</td>\n",
       "    </tr>\n",
       "    <tr>\n",
       "      <th>...</th>\n",
       "      <td>...</td>\n",
       "      <td>...</td>\n",
       "    </tr>\n",
       "    <tr>\n",
       "      <th>16675</th>\n",
       "      <td>아 보 카 도 나 무 입 니 다 . 3 그 루 를 키 우 고 있 어 요 근 데 최 ...</td>\n",
       "      <td>PLT-B PLT-I PLT-I PLT-I O O O O O O O O O O O ...</td>\n",
       "    </tr>\n",
       "    <tr>\n",
       "      <th>16676</th>\n",
       "      <td>이 게 무 슨 식 물 인 가 요 . 키 워 보 라 고 주 셨 는 데 이 름 을 까 ...</td>\n",
       "      <td>O O O O O O O O O O O O O O O O O O O CTG-B CT...</td>\n",
       "    </tr>\n",
       "    <tr>\n",
       "      <th>16677</th>\n",
       "      <td>이 버 섯 이 뭔 가 요 . 오 빠 방 화 분 을 무 심 코 봤 는 데 첫 번 째 ...</td>\n",
       "      <td>O PLT-B PLT-I O O O O O O O O CTG-B CTG-I O O ...</td>\n",
       "    </tr>\n",
       "    <tr>\n",
       "      <th>16678</th>\n",
       "      <td>화 분 속 스 티 로 품 추 가 내 공 1 0 0 . 구 입 한 극 락 조 가 커 ...</td>\n",
       "      <td>CTG-B CTG-I O O O O O O O O O O O O O O O O PL...</td>\n",
       "    </tr>\n",
       "    <tr>\n",
       "      <th>16679</th>\n",
       "      <td>알 로 카 시 아 수 형 어 찌 하 면 좋 을 까 요 . 매 장 에 서 키 우 는 ...</td>\n",
       "      <td>PLT-B PLT-I PLT-I PLT-I PLT-I O O O O O O O O ...</td>\n",
       "    </tr>\n",
       "  </tbody>\n",
       "</table>\n",
       "<p>16680 rows × 2 columns</p>\n",
       "</div>"
      ],
      "text/plain": [
       "                                                sentence  \\\n",
       "0      파 테 크 하 고 있 는 데 물 주 기 어 떻 게 하 나 요 . 대 파 를 심 었 ...   \n",
       "1      벤 자 민 가 지 치 기 . 벤 자 민 이 한 쪽 으 로 만 자 라 고 있 어 요 ...   \n",
       "2      먼 버 섯 이 에 요 . 먹 어 도 되 남 . 드 시 면 안 돼 죵 습 하 고 통 ...   \n",
       "3      다 육 이 질 문 이 다 육 이 이 름 이 랑 관 리 법 소 생 법 알 려 주 세 ...   \n",
       "4      선 인 장 도 와 주 세 요 . 최 근 에 물 을 2 주 간 격 으 로 줬 더 니 ...   \n",
       "...                                                  ...   \n",
       "16675  아 보 카 도 나 무 입 니 다 . 3 그 루 를 키 우 고 있 어 요 근 데 최 ...   \n",
       "16676  이 게 무 슨 식 물 인 가 요 . 키 워 보 라 고 주 셨 는 데 이 름 을 까 ...   \n",
       "16677  이 버 섯 이 뭔 가 요 . 오 빠 방 화 분 을 무 심 코 봤 는 데 첫 번 째 ...   \n",
       "16678  화 분 속 스 티 로 품 추 가 내 공 1 0 0 . 구 입 한 극 락 조 가 커 ...   \n",
       "16679  알 로 카 시 아 수 형 어 찌 하 면 좋 을 까 요 . 매 장 에 서 키 우 는 ...   \n",
       "\n",
       "                                                 tagging  \n",
       "0      O O O O O O O O CTG-B CTG-I CTG-I O O O O O O ...  \n",
       "1      O O O CTG-B CTG-I CTG-I CTG-I O O O O O O O O ...  \n",
       "2      O PLT-B PLT-I O O O O O O O O O O O O O O O O ...  \n",
       "3      PLT-B PLT-I O O O O PLT-B PLT-I O CTG-B CTG-I ...  \n",
       "4      PLT-B PLT-I PLT-I O O O O O O O O O O O O O O ...  \n",
       "...                                                  ...  \n",
       "16675  PLT-B PLT-I PLT-I PLT-I O O O O O O O O O O O ...  \n",
       "16676  O O O O O O O O O O O O O O O O O O O CTG-B CT...  \n",
       "16677  O PLT-B PLT-I O O O O O O O O CTG-B CTG-I O O ...  \n",
       "16678  CTG-B CTG-I O O O O O O O O O O O O O O O O PL...  \n",
       "16679  PLT-B PLT-I PLT-I PLT-I PLT-I O O O O O O O O ...  \n",
       "\n",
       "[16680 rows x 2 columns]"
      ]
     },
     "execution_count": 38,
     "metadata": {},
     "output_type": "execute_result"
    }
   ],
   "source": [
    "import json\n",
    "import random\n",
    "\n",
    "random.shuffle(result)\n",
    "\n",
    "with open('/Users/eunbin/Desktop/Projects/saessack-server/extra/data/kinnaver/sent_tag.json', 'w', encoding='utf-8') as jf:\n",
    "    json.dump(result, jf, indent=2, ensure_ascii=False)\n",
    "\n",
    "data = open('/Users/eunbin/Desktop/Projects/saessack-server/extra/data/kinnaver/sent_tag.json', encoding='utf-8')\n",
    "df = pd.DataFrame(json.load(data))\n",
    "df"
   ]
  },
  {
   "cell_type": "code",
   "execution_count": 29,
   "metadata": {},
   "outputs": [],
   "source": []
  },
  {
   "cell_type": "code",
   "execution_count": 39,
   "metadata": {},
   "outputs": [],
   "source": [
    "# 배열 개수 다른거 있는지 확인\n",
    "for i in range(len(sentences)):\n",
    "    x = len(sentences[i])\n",
    "    y = len(ner_tags[i])\n",
    "    if x != y:\n",
    "        print(i)"
   ]
  },
  {
   "cell_type": "code",
   "execution_count": 40,
   "metadata": {},
   "outputs": [
    {
     "name": "stdout",
     "output_type": "stream",
     "text": [
      "1\n",
      "2\n",
      "4\n",
      "6\n",
      "19\n",
      "28\n",
      "160\n",
      "173\n",
      "337\n",
      "4639\n",
      "9616\n",
      "5728\n"
     ]
    }
   ],
   "source": [
    "# 최대 길이 확인 -> 5728\n",
    "maxlen = len(sentences[0])\n",
    "cnt = -1\n",
    "for x in sentences:\n",
    "    cnt += 1\n",
    "    if len(x) > maxlen:\n",
    "        maxlen = len(x)\n",
    "        print(cnt)\n",
    "\n",
    "\n",
    "print(maxlen)"
   ]
  },
  {
   "cell_type": "code",
   "execution_count": null,
   "metadata": {},
   "outputs": [],
   "source": []
  },
  {
   "cell_type": "code",
   "execution_count": 14,
   "metadata": {},
   "outputs": [
    {
     "name": "stdout",
     "output_type": "stream",
     "text": [
      "273.9065347721822\n"
     ]
    }
   ],
   "source": [
    "total_len = 0\n",
    "for x in sentences:\n",
    "    total_len += len(x)\n",
    "\n",
    "print(total_len / 16680)"
   ]
  },
  {
   "cell_type": "code",
   "execution_count": null,
   "metadata": {},
   "outputs": [],
   "source": []
  }
 ],
 "metadata": {
  "kernelspec": {
   "display_name": "Python 3.8.13 ('python3.8')",
   "language": "python",
   "name": "python3"
  },
  "language_info": {
   "codemirror_mode": {
    "name": "ipython",
    "version": 3
   },
   "file_extension": ".py",
   "mimetype": "text/x-python",
   "name": "python",
   "nbconvert_exporter": "python",
   "pygments_lexer": "ipython3",
   "version": "3.8.13"
  },
  "vscode": {
   "interpreter": {
    "hash": "57c8f761e75d7748b11c72468e681dd62809eb3b233f69a9ae36853aa8b009bb"
   }
  }
 },
 "nbformat": 4,
 "nbformat_minor": 2
}
