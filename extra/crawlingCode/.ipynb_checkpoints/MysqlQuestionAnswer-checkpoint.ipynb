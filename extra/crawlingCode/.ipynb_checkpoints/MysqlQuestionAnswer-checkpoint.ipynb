{
 "cells": [
  {
   "cell_type": "code",
   "execution_count": 4,
   "id": "57e9ff6d",
   "metadata": {},
   "outputs": [],
   "source": [
    "import pickle\n",
    "import json\n",
    "import pandas as pd\n",
    "import re\n",
    "import random"
   ]
  },
  {
   "cell_type": "code",
   "execution_count": 2,
   "id": "2a3337f4",
   "metadata": {},
   "outputs": [],
   "source": [
    "def load_json_to_list(filepath):\n",
    "    data = open(filepath, encoding='utf-8')\n",
    "    data = list(json.load(data))\n",
    "    print('데이터 개수 :', len(data))\n",
    "    return data"
   ]
  },
  {
   "cell_type": "code",
   "execution_count": 3,
   "id": "2268a0fa",
   "metadata": {},
   "outputs": [
    {
     "name": "stdout",
     "output_type": "stream",
     "text": [
      "데이터 개수 : 600\n"
     ]
    }
   ],
   "source": [
    "questiondb = load_json_to_list('../data/QuestionDB.json')"
   ]
  },
  {
   "cell_type": "code",
   "execution_count": 10,
   "id": "6f6559d6",
   "metadata": {},
   "outputs": [
    {
     "name": "stdout",
     "output_type": "stream",
     "text": [
      "{'content': '이거 무슨 꽃인가요?. 뭔지도 모르고 어머님이 키우시네요..', 'answer_count': 3, 'category': '전체', 'user_id': 2, 'create_time': '22/01/01 12:12:12'}\n"
     ]
    }
   ],
   "source": [
    "categories = ['전체', '식물관리', '아파요', '식물이름', '꿀팁공유']\n",
    "create_times = ['22/01/01 12:12', '22/04/04 04:04', '22/11/11 11:11']\n",
    "results = []\n",
    "for data in questiondb:\n",
    "    item = {}\n",
    "    item['content'] = data['title'] +'. '+data['content']\n",
    "    item['answer_count'] = 0\n",
    "    item['category'] = random.choice(categories)\n",
    "    item['user_id'] = 2\n",
    "    item['create_time'] = random.choice(create_times)\n",
    "    results.append(item)\n",
    "print(results[0])"
   ]
  },
  {
   "cell_type": "code",
   "execution_count": 11,
   "id": "af474b7d",
   "metadata": {},
   "outputs": [],
   "source": [
    "def save_json(filepath, data):\n",
    "    with open(filepath, 'w', encoding='UTF-8') as jf:\n",
    "        json.dump(data, jf, indent=2, ensure_ascii=False)"
   ]
  },
  {
   "cell_type": "code",
   "execution_count": 12,
   "id": "8a11f8f5",
   "metadata": {},
   "outputs": [],
   "source": [
    "save_json('../data/mysql_question.json', results)"
   ]
  },
  {
   "cell_type": "code",
   "execution_count": null,
   "id": "bb45a44c",
   "metadata": {},
   "outputs": [],
   "source": []
  }
 ],
 "metadata": {
  "kernelspec": {
   "display_name": "Python 3 (ipykernel)",
   "language": "python",
   "name": "python3"
  },
  "language_info": {
   "codemirror_mode": {
    "name": "ipython",
    "version": 3
   },
   "file_extension": ".py",
   "mimetype": "text/x-python",
   "name": "python",
   "nbconvert_exporter": "python",
   "pygments_lexer": "ipython3",
   "version": "3.8.13"
  }
 },
 "nbformat": 4,
 "nbformat_minor": 5
}
