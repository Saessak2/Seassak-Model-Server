{
 "cells": [
  {
   "cell_type": "markdown",
   "id": "d85b569d",
   "metadata": {},
   "source": [
    "# 네이버 지식인 크롤링 - 식물 태그만"
   ]
  },
  {
   "cell_type": "code",
   "execution_count": 4,
   "id": "02777194",
   "metadata": {},
   "outputs": [],
   "source": [
    "from bs4 import BeautifulSoup\n",
    "import requests\n",
    "import json\n",
    "import pandas as pd\n",
    "import re\n",
    "import pickle"
   ]
  },
  {
   "cell_type": "code",
   "execution_count": 46,
   "id": "7addb96f",
   "metadata": {},
   "outputs": [],
   "source": [
    "def make_link(tag) :\n",
    "    links = []\n",
    "    \n",
    "    print(tag)\n",
    "    page = 1\n",
    "\n",
    "    while True: # 페이지 끝날때까지 반복\n",
    "\n",
    "        req = requests.get('https://kin.naver.com/tag/tagDetail.naver?tag='+tag+'&listType=answer&page='+str(page))\n",
    "        html = req.text\n",
    "        soup = BeautifulSoup(html, 'html.parser')\n",
    "\n",
    "        a = soup.select('#content > div > div.paginate3._default_pager > a')\n",
    "        if len(a) == 0 :\n",
    "            break\n",
    "\n",
    "        print(page, end=' ')\n",
    "        elements =  soup.select('#content > div > div.detail_list > div.question_content > ul > li > div.tit > a')\n",
    "\n",
    "        for e in elements: # 한페이지의 질문 링크 수집\n",
    "            link = 'https://kin.naver.com' + e.get('href')\n",
    "            links.append(link)\n",
    "\n",
    "        page += 1\n",
    "        \n",
    "    return links\n"
   ]
  },
  {
   "cell_type": "code",
   "execution_count": 58,
   "id": "3d67c528",
   "metadata": {
    "collapsed": true
   },
   "outputs": [
    {
     "name": "stdout",
     "output_type": "stream",
     "text": [
      "가지치기\n",
      "1 2 3 4 5 6 7 8 9 10 11 12 13 14 15 16 17 18 19 20 21 22 23 24 25 26 27 28 29 30 31 32 33 34 35 36 37 38 39 40 41 42 43 44 45 46 47 48 49 50 51 52 53 54 55 56 57 58 59 60 61 62 63 64 65 66 67 68 69 70 71 72 73 74 75 76 77 78 79 80 81 82 83 84 85 86 87 88 89 90 91 92 93 94 95 96 97 98 99 100 101 102 103 104 105 106 107 108 109 110 111 112 113 114 115 116 117 118 119 120 121 122 123 124 125 126 127 128 129 130 131 132 "
     ]
    }
   ],
   "source": [
    "# 네이버 지식인 태그 리스트\n",
    "# 특정 식물 종에 치우치지 않도록.\n",
    "# '식물','화분','반려식물','다육이','분갈이','식물물주기','식물관리','물주기','가지치기'\n",
    "\n",
    "\n",
    "# tag_plant_links = make_link('식물')\n",
    "# len(tag_plant_links)\n",
    "\n",
    "# tag_flowerpot_links = make_link('화분')\n",
    "# len(tag_flowerpot_links)\n",
    "\n",
    "# tag_complant_links = make_link('반려식물')\n",
    "# print(len(tag_complant_links))\n",
    "# filepath = './complantLinks.txt'\n",
    "# with open(filepath, 'wb') as lf:\n",
    "#     pickle.dump(tag_complant_links, lf)\n",
    "\n",
    "# tag_da62_links = make_link('다육이')\n",
    "# len(tag_da62_links)\n",
    "\n",
    "# tag_pot_links = make_link('분갈이')\n",
    "# filepath = './potLinks.txt'\n",
    "# with open(filepath, 'wb') as lf:\n",
    "#     pickle.dump(tag_pot_links, lf)\n",
    "\n",
    "# tag_waterplant_links = make_link('식물물주기')\n",
    "# len(tag_waterplant_links)\n",
    "# filepath = './plantWaterLinks.txt'\n",
    "# with open(filepath, 'wb') as lf:\n",
    "#     pickle.dump(tag_waterplant_links, lf)\n",
    "\n",
    "# tag_plantmgmt_links = make_link('식물관리')\n",
    "# print(len(tag_plantmgmt_links))\n",
    "# filepath = './plantMgmtLinks.txt'\n",
    "# with open(filepath, 'wb') as lf:\n",
    "#     pickle.dump(tag_plantmgmt_links, lf)\n",
    "\n",
    "# tag_water_links = make_link('물주기')\n",
    "# len(tag_water_links)\n",
    "# filepath = './waterLinks.txt'\n",
    "# with open(filepath, 'wb') as lf:\n",
    "#     pickle.dump(tag_water_links, lf)\n",
    "\n",
    "tag_pluning_links = make_link('가지치기')\n",
    "filepath = './pluningLinks.txt'\n",
    "with open(filepath, 'wb') as lf:\n",
    "    pickle.dump(tag_pluning_links, lf)"
   ]
  },
  {
   "cell_type": "code",
   "execution_count": 6,
   "id": "308b43fe",
   "metadata": {},
   "outputs": [],
   "source": [
    "\n",
    "with open('./plantlinks.txt', 'rb') as lf:\n",
    "    tag_plant_links = pickle.load(lf)\n",
    "with open('./flowerPotLinks.txt', 'rb') as lf:\n",
    "    tag_flowerpot_links = pickle.load(lf)\n",
    "with open('./complantLinks.txt', 'rb') as lf:\n",
    "    tag_complant_links = pickle.load(lf)\n",
    "with open('./da62Links.txt', 'rb') as lf:\n",
    "    tag_da62_links = pickle.load(lf)\n",
    "with open('./potLinks.txt', 'rb') as lf:\n",
    "    tag_pot_links = pickle.load(lf)\n",
    "with open('./plantWaterLinks.txt', 'rb') as lf:\n",
    "    tag_waterplant_links = pickle.load(lf)\n",
    "with open('./plantMgmtLinks.txt', 'rb') as lf:\n",
    "    tag_plantmgmt_links = pickle.load(lf)\n",
    "with open('./waterLinks.txt', 'rb') as lf:\n",
    "    tag_water_links = pickle.load(lf)\n",
    "with open('./pluningLinks.txt', 'rb') as lf:\n",
    "    tag_pluning_links = pickle.load(lf)\n"
   ]
  },
  {
   "cell_type": "code",
   "execution_count": 7,
   "id": "5aeeb94b",
   "metadata": {},
   "outputs": [
    {
     "data": {
      "text/plain": [
       "13320"
      ]
     },
     "execution_count": 7,
     "metadata": {},
     "output_type": "execute_result"
    }
   ],
   "source": [
    "all_links = tag_plant_links + tag_flowerpot_links + tag_complant_links + tag_da62_links + tag_pot_links + tag_waterplant_links + tag_plantmgmt_links + tag_water_links + tag_pluning_links\n",
    "len(all_links)"
   ]
  },
  {
   "cell_type": "code",
   "execution_count": 8,
   "id": "0e9eb8f7",
   "metadata": {
    "scrolled": false
   },
   "outputs": [
    {
     "data": {
      "text/plain": [
       "6209"
      ]
     },
     "execution_count": 8,
     "metadata": {},
     "output_type": "execute_result"
    }
   ],
   "source": [
    "all_links = set(all_links)\n",
    "len(all_links)"
   ]
  },
  {
   "cell_type": "code",
   "execution_count": 9,
   "id": "6ea1dcf6",
   "metadata": {},
   "outputs": [],
   "source": [
    "links = list(all_links)"
   ]
  },
  {
   "cell_type": "code",
   "execution_count": 10,
   "id": "e4095dc8",
   "metadata": {},
   "outputs": [],
   "source": [
    "with open('./allTagLinks.txt', 'wb') as lf:\n",
    "    pickle.dump(links, lf)"
   ]
  },
  {
   "cell_type": "code",
   "execution_count": 12,
   "id": "aceefd8f",
   "metadata": {},
   "outputs": [],
   "source": [
    "# 파일 열기\n",
    "with open('./allTagLinks.txt', 'rb') as lf:\n",
    "    links = pickle.load(lf)"
   ]
  },
  {
   "cell_type": "code",
   "execution_count": 13,
   "id": "bb81f9f0",
   "metadata": {},
   "outputs": [
    {
     "data": {
      "text/plain": [
       "6209"
      ]
     },
     "execution_count": 13,
     "metadata": {},
     "output_type": "execute_result"
    }
   ],
   "source": [
    "len(links)"
   ]
  },
  {
   "cell_type": "code",
   "execution_count": 22,
   "id": "3aec9024",
   "metadata": {},
   "outputs": [],
   "source": [
    "results = []\n",
    "\n",
    "def make_json():\n",
    "    cnt = 0\n",
    "    for link in links:\n",
    "        cnt+=1\n",
    "        json_dic = dict()\n",
    "        \n",
    "        try :\n",
    "\n",
    "            req = requests.get(link)\n",
    "            html = req.text\n",
    "            soup = BeautifulSoup(html, 'html.parser')\n",
    "\n",
    "\n",
    "                # id 저장\n",
    "            json_dic['no'] = cnt\n",
    "                # 링크 저장\n",
    "            json_dic['link'] = link\n",
    "\n",
    "                # 질문 제목\n",
    "            question_title = soup.select_one('.title').text.strip()\n",
    "    #         print(\"질문제목 : \", question_title)\n",
    "\n",
    "                # 질문 내용\n",
    "            try :\n",
    "                question_content = soup.select_one('.c-heading__content').text.strip()\n",
    "            except AttributeError:\n",
    "                question_content = ''\n",
    "    #         print('질문내용 : ', question_content)\n",
    "\n",
    "                # 답변 개수\n",
    "            answer_num = int(soup.select_one('#answerArea > div.answer-content__inner > div.c-classify.c-classify--sorting > div.c-classify__title-part > h3 > em').text)\n",
    "    #         print(answer_num)\n",
    "\n",
    "                # json에 저장\n",
    "            json_dic['question_title'] = question_title\n",
    "            json_dic['question_content'] = question_content\n",
    "            json_dic['answer_num'] = answer_num\n",
    "            json_obj = dict()\n",
    "\n",
    "                # 답변 \n",
    "            answers = []\n",
    "            i = 1\n",
    "            while True:\n",
    "                if i == answer_num + 1:\n",
    "                    break\n",
    "                user_info_html  = '<html lang=\"ko\">' + str(soup.select_one('#answer_' + str(i) + ' > div.c-heading-answer > div.c-heading-answer__body > div > div.c-userinfo')) + '</html>'\n",
    "                soup2 = BeautifulSoup(user_info_html, 'html.parser')\n",
    "\n",
    "                dic = {}\n",
    "                user_info = []\n",
    "                for x in soup2.select('span') :\n",
    "                    user_info.append(x.text)\n",
    "\n",
    "                    # 삭제된 댓글인 경우\n",
    "                if user_info[0].split()[0] == '삭제일':\n",
    "                    answers.append(dic)\n",
    "                    i+=1   \n",
    "                    continue\n",
    "\n",
    "                    # 랭크\n",
    "                dic['rank'] = user_info.pop(0)\n",
    "\n",
    "                    # 그 외\n",
    "                for x in user_info : \n",
    "                    temp_list = x.split()  # 공백으로 분리\n",
    "                    if temp_list[0] == '채택답변수':\n",
    "                        dic['selection_num'] = int(temp_list[1].replace(',', ''))\n",
    "                    if temp_list[0] == '받은감사수' : \n",
    "                        dic['thanks_num'] = int(temp_list[1].replace(',', ''))\n",
    "\n",
    "                    # 답변\n",
    "            #     answer = soup.select_one('#answer_' + str(i) + ' > div._endContents.c-heading-answer__content > div._endContentsText.c-heading-answer__content-user > div > div span').text.strip()\n",
    "                answer = ''\n",
    "                for a in soup.select('#answer_' + str(i) + ' > div._endContents.c-heading-answer__content > div._endContentsText.c-heading-answer__content-user > div > div span') :\n",
    "                    answer += a.text.strip()\n",
    "\n",
    "    #             print('답변', i, ' : ', answer)\n",
    "                dic['answer'] = answer\n",
    "                    # 답변 리스트에 딕셔너리 추가\n",
    "                answers.append(dic)\n",
    "\n",
    "                i+=1   \n",
    "\n",
    "\n",
    "            json_obj = answers  \n",
    "            json_dic['answers'] = json_obj\n",
    "\n",
    "            results.append(json_dic)\n",
    "\n",
    "        except :\n",
    "            print(\"except; no : \", cnt, ', link : ', link)\n",
    "            results.append(json_dic)\n",
    "\n"
   ]
  },
  {
   "cell_type": "code",
   "execution_count": 14,
   "id": "657d0d8e",
   "metadata": {},
   "outputs": [],
   "source": [
    "def crawling_question(results):\n",
    "    cnt = 0\n",
    "    \n",
    "    for link in links:\n",
    "        cnt+=1\n",
    "        print(cnt)\n",
    "        json_dic = dict()\n",
    "        \n",
    "        try :\n",
    "\n",
    "            req = requests.get(link)\n",
    "            html = req.text\n",
    "            soup = BeautifulSoup(html, 'html.parser')\n",
    "\n",
    "                # 질문 제목\n",
    "            question_title = soup.select_one('.title').text.strip()\n",
    "#             print(\"질문제목 : \", question_title)\n",
    "\n",
    "                # 질문 내용\n",
    "            try :\n",
    "                question_content = re.sub(r\"\\s+\", \" \", soup.select_one('.c-heading__content').text)\n",
    "            except AttributeError:\n",
    "                question_content = ''\n",
    "#             print('질문내용 : ', question_content)\n",
    "\n",
    "                # 답변 개수\n",
    "            answer_num = int(soup.select_one('#answerArea > div > div.c-classify.c-classify--sorting > div.c-classify__title-part > h3 > em').text)\n",
    "#             print(\"답변 개수 : \", answer_num)\n",
    "\n",
    "                # json에 저장\n",
    "            json_dic['no'] = cnt\n",
    "            json_dic['link'] = link\n",
    "            json_dic['question_title'] = question_title\n",
    "            json_dic['question_content'] = question_content\n",
    "            json_dic['answer_num'] = answer_num\n",
    "            \n",
    "            results.append(json_dic)\n",
    "            \n",
    "        except:\n",
    "            print('except no : ', cnt, '/ link : ', link)\n"
   ]
  },
  {
   "cell_type": "code",
   "execution_count": null,
   "id": "7b0baa3c",
   "metadata": {},
   "outputs": [],
   "source": [
    "results = []\n",
    "crawling_question(results)"
   ]
  },
  {
   "cell_type": "code",
   "execution_count": 111,
   "id": "4e9b0dcc",
   "metadata": {
    "collapsed": true
   },
   "outputs": [
    {
     "name": "stdout",
     "output_type": "stream",
     "text": [
      "[\n",
      "  {\n",
      "    \"no\": 1,\n",
      "    \"link\": \"https://kin.naver.com/qna/detail.naver?d1id=8&dirId=80604&docId=414192228\",\n",
      "    \"question_title\": \"멜라닌고무나무 잎이 이상해요\",\n",
      "    \"question_content\": \" 잎이 왜 이런건가요ㅜㅜㅜ온도는 20~26도 실내에서 키우는데흙은 통기성이 좋은 흙이라물을 1~2주에 한 번씩 주거든요?이런 경우 저 잎 뱐화는 무슨 문제일까요ㅠㅠㅜㅜㅜㅜ \",\n",
      "    \"answer_num\": 2\n",
      "  },\n",
      "  {\n",
      "    \"no\": 2,\n",
      "    \"link\": \"https://kin.naver.com/qna/detail.naver?d1id=8&dirId=80604&docId=429035304\",\n",
      "    \"question_title\": \"이 열매는 무엇일까요??\",\n",
      "    \"question_content\": \" 독초인지 궁금해요!! \",\n",
      "    \"answer_num\": 1\n",
      "  },\n",
      "  {\n",
      "    \"no\": 3,\n",
      "    \"link\": \"https://kin.naver.com/qna/detail.naver?d1id=8&dirId=80604&docId=414664677\",\n",
      "    \"question_title\": \"핑크콩고 아픈것 같아요\",\n",
      "    \"question_content\": \" 새잎도 많이 보여주는데 잎이 펴지기전에 시든다고 해야해야하나요 펴진잎도 누렇게 되네요 ㅠ 조명등아래서 키우는데 햇빛부족일까요? 그리고 물을 준지 한참 되었는데 흙을 만져보면 촉촉요 고수님들 조언 부탁드립니다 \",\n",
      "    \"answer_num\": 1\n",
      "  },\n",
      "  {\n",
      "    \"no\": 4,\n",
      "    \"link\": \"https://kin.naver.com/qna/detail.naver?d1id=8&dirId=80604&docId=415549198\",\n",
      "    \"question_title\": \"커피나무 분갈이\",\n",
      "    \"question_content\": \" 10cm 플분에 심겨진 커피나무입니다.뿌리파리가 나와서 분갈이 해주려고 하는데, 화분을 다른 걸로 갈 생각은 없어요.집에 훈탄, 산야초, 질석, 코코피트, 마사토, 상토가 있습니다.실내(건조함, 사무실)에서 키울거고, 플분에 심어서 키울거면1)흙 배합이 어떻게 되어야 할까요?2)배수층을 만들어 줘야 할까요?3)물 줄 때 비오킬 같이 뿌리려고 하는데, 바로 뿌려줘도 될까요? \",\n",
      "    \"answer_num\": 2\n",
      "  },\n",
      "  {\n",
      "    \"no\": 5,\n",
      "    \"link\": \"https://kin.naver.com/qna/detail.naver?d1id=8&dirId=80604&docId=330593456\",\n",
      "    \"question_title\": \"안녕하세요 얼마 전 선물받은 청뱅갈고\",\n",
      "    \"question_content\": \" 안녕하세요선물받은 청뱅갈고무나무를 3달째 키우고 있는데요,잎이 노랗게 황변하고 시들어 떨어지는 현상이 있어서 전문가 분들께 문의드립니다.주로 새로 자라나는 어린잎이 채 자라지 못한 채 노랗게 변해서 떨어져버리네요ㅠ인터넷 찾아보니 원인이 두 가지 정도 있는 것 같은데요1. 자연스러운 잎갈이 현상 (잎이 너무 많아 나무가 스스로 잎을 정리해버리는 것?)2. 통풍이 잘 안되어서이 둘 중 하나에 해당이 되는건지, 아니면 또 다른 원인이 있는건지.. 정확한 원인을 알고싶습니다.볕이 잘 드는 창가쪽에 두고 키우는 중이긴 한데오피스텔에서 키우는지라 큰 창문이 없다보니 통풍이 잘 안되는 편이긴 해요ㅠ에어컨 바람이 지나가는 길목이라 그게 원인인가 싶기도 하구요..물은 20-25일 주기로 주라고 해서 우선 거의 25일 주기로 주고있는데, 물이 부족하거나 과잉인게 원인이 될 수도 있나요?애정을 가지고 키우는 중인데 넘 속상하네요ㅠ전문가 분들께서 원인을 잘 살펴봐주시고 해결방법을 알려주시면 감사드리겠습니다. \",\n",
      "    \"answer_num\": 2\n",
      "  },\n",
      "  {\n",
      "    \"no\": 6,\n",
      "    \"link\": \"https://kin.naver.com/qna/detail.naver?d1id=8&dirId=80604&docId=422776096\",\n",
      "    \"question_title\": \"사무실 식물 LED추천\",\n",
      "    \"question_content\": \" 사무실에서 미니 다육이와 선인장을 키우고있는데 사무실 형광등을 거의 하루에 12시간 이상 켜두는데요 웃자람을 할까요??혹시 한다면 사무실에서 사용가능한 작은 식물용 LED가 있을까요?? 자리가 자리다보니 조금 크거나 너무 밝은 조명은 눈에 너무 띌꺼같더라구요.화분크기가 많이작아서 3Cm정도됩니다.그래서 너무 큰 조명도 필요없구.. 눈치보면서 조명키기도 힘들꺼같아서요. \",\n",
      "    \"answer_num\": 2\n",
      "  },\n",
      "  {\n",
      "    \"no\": 7,\n",
      "    \"link\": \"https://kin.naver.com/qna/detail.naver?d1id=9&dirId=90104&docId=407109258\",\n",
      "    \"question_title\": \"올리브나무 전정, 가지치기\",\n",
      "    \"question_content\": \" 올리브나무를 얻었는데 수형이 애매해서 만약 아래 표시된 위치에서 강전정한다면 새순을 받을 수 있을까요?, 이쪽에는 너무 지식이 없어서 질문 드립니다. \",\n",
      "    \"answer_num\": 1\n",
      "  },\n",
      "  {\n",
      "    \"no\": 8,\n",
      "    \"link\": \"https://kin.naver.com/qna/detail.naver?d1id=13&dirId=13050302&docId=426993051\",\n",
      "    \"question_title\": \"다육이 어떤병인가요..\",\n",
      "    \"question_content\": \" 전염병인것 같은데 꼭 1달에 한번씩은 걸리네요.. 어떤병인지 알려주세요ㅠㅠ대처방법도 알려주시면 감사하겠습니다! \",\n",
      "    \"answer_num\": 1\n",
      "  },\n",
      "  {\n",
      "    \"no\": 9,\n",
      "    \"link\": \"https://kin.naver.com/qna/detail.naver?d1id=8&dirId=80604&docId=428949930\",\n",
      "    \"question_title\": \"오렌지자스민 식물 키우는데 노란잎이 생기고 잎이 다 떨어져요\",\n",
      "    \"question_content\": \" 오렌지자스민 키우는중입니다. 최근 3주정도 노란잎이 생기면서 잎들이 엄청 떨어지네요..1주전에 흙갈이도 해줬는데 어떻게 해야 건강하게 되살릴 수 있을지 걱정입니다 식물 고수님들 답변 부탁드려요. \",\n",
      "    \"answer_num\": 2\n",
      "  },\n",
      "  {\n",
      "    \"no\": 10,\n",
      "    \"link\": \"https://kin.naver.com/qna/detail.naver?d1id=8&dirId=80604&docId=423894378\",\n",
      "    \"question_title\": \"전지를 해야하는데, 어디를 잘라야 할까요?\",\n",
      "    \"question_content\": \" 가지가 너무 빨리 자라나고 있어요.아래가지들은 축축 쳐져 있고요.어디를 어떻게 잘라야 할지 전문가님들의 조언 부탁드립니다. \",\n",
      "    \"answer_num\": 2\n",
      "  }\n",
      "]\n"
     ]
    }
   ],
   "source": [
    "print(json.dumps(results, ensure_ascii=False, indent=2))"
   ]
  },
  {
   "cell_type": "code",
   "execution_count": 7,
   "id": "7fe689ee",
   "metadata": {},
   "outputs": [],
   "source": [
    "with open('Question.json', 'w', encoding='UTF-8') as json_file:\n",
    "    json.dump(results, json_file, indent=2, ensure_ascii=False)"
   ]
  },
  {
   "cell_type": "code",
   "execution_count": null,
   "id": "293ad598",
   "metadata": {},
   "outputs": [],
   "source": []
  }
 ],
 "metadata": {
  "kernelspec": {
   "display_name": "crawling-kernel",
   "language": "python",
   "name": "crawling"
  },
  "language_info": {
   "codemirror_mode": {
    "name": "ipython",
    "version": 3
   },
   "file_extension": ".py",
   "mimetype": "text/x-python",
   "name": "python",
   "nbconvert_exporter": "python",
   "pygments_lexer": "ipython3",
   "version": "3.10.4"
  }
 },
 "nbformat": 4,
 "nbformat_minor": 5
}
